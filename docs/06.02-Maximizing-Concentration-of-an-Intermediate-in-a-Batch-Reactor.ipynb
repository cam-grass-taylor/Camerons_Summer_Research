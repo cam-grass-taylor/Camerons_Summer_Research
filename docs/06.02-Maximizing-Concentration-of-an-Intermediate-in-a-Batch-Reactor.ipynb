{
  "cells": [
    {
      "cell_type": "markdown",
      "metadata": {
        "id": "Ql9Nw_-VH7d4",
        "nbpages": {
          "level": 0,
          "link": "[](https://jckantor.github.io/ND-Pyomo-Cookbook/06.02-Maximizing-Concentration-of-an-Intermediate-in-a-Batch-Reactor.html)",
          "section": ""
        }
      },
      "source": [
        "<!--NOTEBOOK_HEADER-->\n",
        "*This notebook contains material from [ND-Pyomo-Cookbook](https://jckantor.github.io/ND-Pyomo-Cookbook);\n",
        "content is available [on Github](https://github.com/jckantor/ND-Pyomo-Cookbook.git).*\n",
        "*The text is released under the [CC-BY-NC-ND-4.0 license](https://creativecommons.org/licenses/by-nc-nd/4.0/legalcode),\n",
        "and code is released under the [MIT license](https://opensource.org/licenses/MIT).*"
      ]
    },
    {
      "cell_type": "markdown",
      "metadata": {
        "id": "kfk7T6IRH7d4",
        "nbpages": {
          "level": 0,
          "link": "[](https://jckantor.github.io/ND-Pyomo-Cookbook/06.02-Maximizing-Concentration-of-an-Intermediate-in-a-Batch-Reactor.html)",
          "section": ""
        }
      },
      "source": [
        "<!--NAVIGATION-->\n",
        "< [6.1 Unconstrained Scalar Optimization](https://jckantor.github.io/ND-Pyomo-Cookbook/06.01-Unconstrained-Scalar-Optimization.html) | [Contents](toc.html) | [Tag Index](tag_index.html) | [6.3 Path Planning for a Simple Car](https://jckantor.github.io/ND-Pyomo-Cookbook/06.03-Path-Planning-for-a-Simple-Car.html) ><p><a href=\"https://colab.research.google.com/github/jckantor/ND-Pyomo-Cookbook/blob/master/docs/06.02-Maximizing-Concentration-of-an-Intermediate-in-a-Batch-Reactor.ipynb\"> <img align=\"left\" src=\"https://colab.research.google.com/assets/colab-badge.svg\" alt=\"Open in Colab\" title=\"Open in Google Colaboratory\"></a><p><a href=\"https://jckantor.github.io/ND-Pyomo-Cookbook/06.02-Maximizing-Concentration-of-an-Intermediate-in-a-Batch-Reactor.ipynb\"> <img align=\"left\" src=\"https://img.shields.io/badge/Github-Download-blue.svg\" alt=\"Download\" title=\"Download Notebook\"></a>"
      ]
    },
    {
      "cell_type": "markdown",
      "metadata": {
        "id": "A4n0I0WGFg2I",
        "nbpages": {
          "level": 1,
          "link": "[6.2 Maximizing Concentration of an Intermediate in a Batch Reactor](https://jckantor.github.io/ND-Pyomo-Cookbook/06.02-Maximizing-Concentration-of-an-Intermediate-in-a-Batch-Reactor.html#6.2-Maximizing-Concentration-of-an-Intermediate-in-a-Batch-Reactor)",
          "section": "6.2 Maximizing Concentration of an Intermediate in a Batch Reactor"
        }
      },
      "source": [
        "# 6.2 Maximizing Concentration of an Intermediate in a Batch Reactor\n",
        "\n",
        "Keywords: ipopt usage, scipy.minimize_scalar, scipy.odeint, unconstrained optimization\n",
        "\n",
        "This notebook presents an example of the finding the time period required to acheive an optimal result. Because the period of operation is an unknown "
      ]
    },
    {
      "cell_type": "markdown",
      "metadata": {
        "nbpages": {
          "level": 2,
          "link": "[6.2.1 Problem Statement](https://jckantor.github.io/ND-Pyomo-Cookbook/06.02-Maximizing-Concentration-of-an-Intermediate-in-a-Batch-Reactor.html#6.2.1-Problem-Statement)",
          "section": "6.2.1 Problem Statement"
        },
        "id": "TZo4Ft9gql9d"
      },
      "source": [
        "## 6.2.1 Problem Statement\n",
        "\n",
        "A desired product $B$ is as an intermediate in a series reactions\n",
        "\n",
        "\\begin{align}\n",
        "A \\overset{k_A}{\\longrightarrow} B \\overset{k_B}{\\longrightarrow} C\n",
        "\\end{align}\n",
        "\n",
        "where $A$ is a raw material and $C$ is an undesired by-product. The reaction operates isothermally with rate constants $k_A = 0.5\\ \\mbox{min}^{-1}$ and $k_A = 0.1\\ \\mbox{min}^{-1}$. The raw material is a solution with concenration $C_{A,f} = 2.0\\ \\mbox{moles/liter}$.\n",
        "\n",
        "A 100 liter tank is available for use as a batch reactor. How long should the reaction be operated to maximize the concentration of $B$?"
      ]
    },
    {
      "cell_type": "markdown",
      "metadata": {
        "nbpages": {
          "level": 2,
          "link": "[6.2.2 Imports](https://jckantor.github.io/ND-Pyomo-Cookbook/06.02-Maximizing-Concentration-of-an-Intermediate-in-a-Batch-Reactor.html#6.2.2-Imports)",
          "section": "6.2.2 Imports"
        },
        "id": "7tSPL9h8ql9d"
      },
      "source": [
        "## 6.2.2 Imports"
      ]
    },
    {
      "cell_type": "code",
      "execution_count": 1,
      "metadata": {
        "colab": {
          "base_uri": "https://localhost:8080/"
        },
        "id": "qceXwUrFIKB8",
        "nbpages": {
          "level": 2,
          "link": "[6.2.2 Imports](https://jckantor.github.io/ND-Pyomo-Cookbook/06.02-Maximizing-Concentration-of-an-Intermediate-in-a-Batch-Reactor.html#6.2.2-Imports)",
          "section": "6.2.2 Imports"
        },
        "outputId": "bd422e67-3bc1-4bb7-efc0-ed475d005c03"
      },
      "outputs": [
        {
          "output_type": "stream",
          "name": "stdout",
          "text": [
            "\u001b[K     |████████████████████████████████| 9.6 MB 11.7 MB/s \n",
            "\u001b[K     |████████████████████████████████| 49 kB 4.2 MB/s \n",
            "\u001b[?25h"
          ]
        }
      ],
      "source": [
        "%matplotlib inline\n",
        "\n",
        "import matplotlib.pyplot as plt\n",
        "import numpy as np\n",
        "from scipy.integrate import odeint\n",
        "from scipy.optimize import minimize_scalar\n",
        "\n",
        "import shutil\n",
        "import sys\n",
        "import os.path\n",
        "\n",
        "if not shutil.which(\"pyomo\"):\n",
        "    !pip install -q pyomo\n",
        "    assert(shutil.which(\"pyomo\"))\n",
        "\n",
        "if not (shutil.which(\"ipopt\") or os.path.isfile(\"ipopt\")):\n",
        "    if \"google.colab\" in sys.modules:\n",
        "        !wget -N -q \"https://ampl.com/dl/open/ipopt/ipopt-linux64.zip\"\n",
        "        !unzip -o -q ipopt-linux64\n",
        "    else:\n",
        "        try:\n",
        "            !conda install -c conda-forge ipopt \n",
        "        except:\n",
        "            pass\n",
        "\n",
        "assert(shutil.which(\"ipopt\") or os.path.isfile(\"ipopt\"))\n",
        "from pyomo.environ import *\n",
        "from pyomo.dae import *"
      ]
    },
    {
      "cell_type": "markdown",
      "metadata": {
        "id": "NdetctYWFg2L",
        "nbpages": {
          "level": 2,
          "link": "[6.2.3 Mathematical model](https://jckantor.github.io/ND-Pyomo-Cookbook/06.02-Maximizing-Concentration-of-an-Intermediate-in-a-Batch-Reactor.html#6.2.3-Mathematical-model)",
          "section": "6.2.3 Mathematical model"
        }
      },
      "source": [
        "## 6.2.3 Mathematical model\n",
        "\n",
        "A material balance for an isothermal stirred batch reactor with a volume $V = 40$ liters and an initial concentration $C_{A,f}$ is given by\n",
        "\n",
        "\\begin{align}\n",
        "V\\frac{dC_A}{dt} & = - V k_A C_A \\\\\n",
        "V\\frac{dC_B}{dt} & = V k_A C_A - V k_B C_B\n",
        "\\end{align}\n",
        "\n",
        "Eliminating the common factor $V$\n",
        "\n",
        "\\begin{align}\n",
        "\\frac{dC_A}{dt} & = - k_A C_A \\\\\n",
        "\\frac{dC_B}{dt} & = k_A C_A - k_B C_B\n",
        "\\end{align}\n",
        "\n",
        "With an initial concentration $C_{A,f}$. A numerical solution to these equations is shown in the following cell."
      ]
    },
    {
      "cell_type": "code",
      "source": [
        "import pyomo.environ as pyo\n",
        "import pyomo.dae as dae #differential equations new idea of a continious set\n",
        "\n",
        "#DO NOT DO\n",
        "# most people say impor pyomo.environ as * and import pyomo.dae as * \n",
        "#do not do becasue its the last one that's imported \n",
        "#matlab pollutes like this, must keep path variable clean\n",
        "V = 100 #Liters\n",
        "kA = .5 #mol/L/min\n",
        "kB = .1 # mol/liter/min\n",
        "CAf = 2.0 #initial concentration\n",
        "\n",
        "m = pyo.ConcreteModel('batch reactor')\n",
        "#reasons for naming the model\n",
        "\n",
        "#. is bc its object oriented \n",
        "m.t = dae.ContinuousSet(bounds = (0,10))\n",
        "m.cA = pyo.Var(m.t) #creates descion variable as a function of time\n",
        "m.cB = pyo.Var(m.t)\n",
        "\n",
        "m.cAdt = dae.DerivativeVar(m.cA)\n",
        "m.cBdt = dae.DerivativeVar(m.cB)\n",
        "\n",
        "#now define our differential equation \n",
        "#create constraint over set\n",
        "@m.Constraint(m.t)\n",
        "def ode_1(m, t):\n",
        "  return V*m.cAdt[t] == -kA*m.cA[t]*V #could add V\n",
        "\n",
        "def ode_2(m, t):\n",
        "  return m.cBdt[t]*V == V*kA*m.cA[t] - kB*m.cB[t]*V\n",
        "\n",
        "#need initial condition\n",
        "#don't put m.t in constraint bc it only happens at one time\n",
        "@m.Constraint()\n",
        "def ic_1(m):\n",
        "  return m.cA[0] == 2.0\n",
        "\n",
        "@m.Constraint()\n",
        "def ic_2(m):\n",
        "  return m.cB[0] == 0\n",
        "#can also say m.cA[0].fix(2.0 or in initial condition)\n",
        "pyo.TransformationFactory('dae.collocation').apply_to(m)\n",
        "pyo.SolverFactory('ipopt').solve(m).write()\n",
        "#for contiual modeling idex set **8\n",
        "\n",
        "#fetching solution\n",
        "for t in m.t: #solution turned it into a set of values so looping over set of values\n",
        "  #prints concentration of A at that time\n",
        "  #find element t and then () calls function to recall value \n",
        "  print(t,m.cA[t](), m.cB[t]())"
      ],
      "metadata": {
        "id": "6Jhm4BTarfDq",
        "outputId": "24e29446-aea4-4b1c-dc36-e4aea7dadb82",
        "colab": {
          "base_uri": "https://localhost:8080/"
        }
      },
      "execution_count": 8,
      "outputs": [
        {
          "output_type": "stream",
          "name": "stdout",
          "text": [
            "# ==========================================================\n",
            "# = Solver Results                                         =\n",
            "# ==========================================================\n",
            "# ----------------------------------------------------------\n",
            "#   Problem Information\n",
            "# ----------------------------------------------------------\n",
            "Problem: \n",
            "- Lower bound: -inf\n",
            "  Upper bound: inf\n",
            "  Number of objectives: 1\n",
            "  Number of constraints: 93\n",
            "  Number of variables: 123\n",
            "  Sense: unknown\n",
            "# ----------------------------------------------------------\n",
            "#   Solver Information\n",
            "# ----------------------------------------------------------\n",
            "Solver: \n",
            "- Status: ok\n",
            "  Message: Ipopt 3.12.13\\x3a Optimal Solution Found\n",
            "  Termination condition: optimal\n",
            "  Id: 0\n",
            "  Error rc: 0\n",
            "  Time: 0.035202741622924805\n",
            "# ----------------------------------------------------------\n",
            "#   Solution Information\n",
            "# ----------------------------------------------------------\n",
            "Solution: \n",
            "- number of solutions: 0\n",
            "  number of solutions displayed: 0\n",
            "0 2.0 0.0\n",
            "0.155051 1.850906778256535 0.0\n",
            "0.644949 1.4486266587574608 0.0\n",
            "1.0 1.2130637636080834 0.0\n",
            "1.155051 1.1226339712597921 0.0\n",
            "1.644949 0.8786382533676641 0.0\n",
            "2.0 0.7357618472895039 0.0\n",
            "2.155051 0.6809132951653462 0.0\n",
            "2.644949 0.5329221132401056 0.0\n",
            "3.0 0.44626301779612065 0.0\n",
            "3.155051 0.4129956222620282 0.0\n",
            "3.644949 0.3232342521985078 0.0\n",
            "4.0 0.2706727479634316 0.0\n",
            "4.155051 0.25049501194741913 0.0\n",
            "4.644949 0.19605187924948314 0.0\n",
            "5.0 0.16417165117533125 0.0\n",
            "5.155051 0.151933210978994 0.0\n",
            "5.644949 0.11891171525240773 0.0\n",
            "6.0 0.09957534052625035 0.0\n",
            "6.155051 0.09215233636361969 0.0\n",
            "6.644949 0.07212374642058919 0.0\n",
            "7.0 0.060395618670664855 0.0\n",
            "7.155051 0.055893329987265254 0.0\n",
            "7.644949 0.04374535163923747 0.0\n",
            "8.0 0.03663186824503766 0.0\n",
            "8.155051 0.033901086617470266 0.0\n",
            "8.644949 0.026532950449926228 0.0\n",
            "9.0 0.02221839598066042 0.0\n",
            "9.155051 0.02056208986129606 0.0\n",
            "9.644949 0.01609308036620715 0.0\n",
            "10 0.013476165524817322 0.0\n"
          ]
        }
      ]
    },
    {
      "cell_type": "code",
      "source": [
        "import matplotlib.pyplot as plt\n",
        "\n",
        "cA = [m.cA[t]() for t in m.t]\n",
        "cB = [m.cB[t]() for t in m.t]\n",
        "\n",
        "plt.plot(m.t,cA,m.t,cB)"
      ],
      "metadata": {
        "id": "EyIuKm1WzYRo",
        "outputId": "6da0fc39-fda2-4bd1-e2ac-c1040f48c050",
        "colab": {
          "base_uri": "https://localhost:8080/",
          "height": 300
        }
      },
      "execution_count": 9,
      "outputs": [
        {
          "output_type": "execute_result",
          "data": {
            "text/plain": [
              "[<matplotlib.lines.Line2D at 0x7f460ea81990>,\n",
              " <matplotlib.lines.Line2D at 0x7f460e007fd0>]"
            ]
          },
          "metadata": {},
          "execution_count": 9
        },
        {
          "output_type": "display_data",
          "data": {
            "text/plain": [
              "<Figure size 432x288 with 1 Axes>"
            ],
            "image/png": "[encoded data removed]"
          },
          "metadata": {
            "needs_background": "light"
          }
        }
      ]
    },
    {
      "cell_type": "code",
      "execution_count": null,
      "metadata": {
        "colab": {
          "base_uri": "https://localhost:8080/",
          "height": 295
        },
        "id": "9H59ye_PFg2M",
        "nbpages": {
          "level": 2,
          "link": "[6.2.3 Mathematical model](https://jckantor.github.io/ND-Pyomo-Cookbook/06.02-Maximizing-Concentration-of-an-Intermediate-in-a-Batch-Reactor.html#6.2.3-Mathematical-model)",
          "section": "6.2.3 Mathematical model"
        },
        "outputId": "8e2e5fba-debe-418e-93d4-3134343cb664"
      },
      "outputs": [
        {
          "data": {
            "image/png": "[encoded data removed]",
            "text/plain": [
              "<Figure size 432x288 with 1 Axes>"
            ]
          },
          "metadata": {
            "needs_background": "light"
          },
          "output_type": "display_data"
        }
      ],
      "source": [
        "V = 40     # liters\n",
        "kA = 0.5   # 1/min\n",
        "kB = 0.1   # l/min\n",
        "CAf = 2.0  # moles/liter\n",
        "# only need A and B bc C = C0 - A - B\n",
        "def batch(X, t):\n",
        "    CA, CB = X\n",
        "    dCA_dt = -kA*CA\n",
        "    dCB_dt = kA*CA - kB*CB\n",
        "    return [dCA_dt, dCB_dt]\n",
        "\n",
        "t = np.linspace(0,30,200)\n",
        "soln = odeint(batch, [CAf,0], t)\n",
        "plt.plot(t, soln)\n",
        "plt.xlabel('time / minutes')\n",
        "plt.ylabel('concentration / moles per liter')\n",
        "plt.title('Batch Reactor')\n",
        "plt.legend(['$C_A$','$C_B$'])\n",
        "plt.grid(True)"
      ]
    },
    {
      "cell_type": "markdown",
      "metadata": {
        "id": "cLCET4hnFg2S",
        "nbpages": {
          "level": 2,
          "link": "[6.2.4 Optimization with `scipy.minimize_scalar`](https://jckantor.github.io/ND-Pyomo-Cookbook/06.02-Maximizing-Concentration-of-an-Intermediate-in-a-Batch-Reactor.html#6.2.4-Optimization-with-`scipy.minimize_scalar`)",
          "section": "6.2.4 Optimization with `scipy.minimize_scalar`"
        }
      },
      "source": [
        "## 6.2.4 Optimization with `scipy.minimize_scalar`"
      ]
    },
    {
      "cell_type": "markdown",
      "metadata": {
        "id": "-rrDxccbFg2S",
        "nbpages": {
          "level": 2,
          "link": "[6.2.4 Optimization with `scipy.minimize_scalar`](https://jckantor.github.io/ND-Pyomo-Cookbook/06.02-Maximizing-Concentration-of-an-Intermediate-in-a-Batch-Reactor.html#6.2.4-Optimization-with-`scipy.minimize_scalar`)",
          "section": "6.2.4 Optimization with `scipy.minimize_scalar`"
        }
      },
      "source": [
        "To find the maximum value, we first write a function to compute $C_B$ for any value of time $t$."
      ]
    },
    {
      "cell_type": "code",
      "execution_count": null,
      "metadata": {
        "id": "N3NI_5GWFg2T",
        "nbpages": {
          "level": 2,
          "link": "[6.2.4 Optimization with `scipy.minimize_scalar`](https://jckantor.github.io/ND-Pyomo-Cookbook/06.02-Maximizing-Concentration-of-an-Intermediate-in-a-Batch-Reactor.html#6.2.4-Optimization-with-`scipy.minimize_scalar`)",
          "section": "6.2.4 Optimization with `scipy.minimize_scalar`"
        }
      },
      "outputs": [],
      "source": [
        "def CB(tf):\n",
        "    soln = odeint(batch, [CAf, 0], [0, tf])\n",
        "    return soln[-1][1]"
      ]
    },
    {
      "cell_type": "markdown",
      "metadata": {
        "id": "ui89VA8hFg2V",
        "nbpages": {
          "level": 2,
          "link": "[6.2.4 Optimization with `scipy.minimize_scalar`](https://jckantor.github.io/ND-Pyomo-Cookbook/06.02-Maximizing-Concentration-of-an-Intermediate-in-a-Batch-Reactor.html#6.2.4-Optimization-with-`scipy.minimize_scalar`)",
          "section": "6.2.4 Optimization with `scipy.minimize_scalar`"
        }
      },
      "source": [
        "We gain use `minimize_scalar` to find the value of $t$ that minimizes the negative value of $C_B(t)$.|"
      ]
    },
    {
      "cell_type": "code",
      "execution_count": null,
      "metadata": {
        "colab": {
          "base_uri": "https://localhost:8080/",
          "height": 102
        },
        "id": "diuqirNEFg2W",
        "nbpages": {
          "level": 2,
          "link": "[6.2.4 Optimization with `scipy.minimize_scalar`](https://jckantor.github.io/ND-Pyomo-Cookbook/06.02-Maximizing-Concentration-of-an-Intermediate-in-a-Batch-Reactor.html#6.2.4-Optimization-with-`scipy.minimize_scalar`)",
          "section": "6.2.4 Optimization with `scipy.minimize_scalar`"
        },
        "outputId": "280f6670-fe70-4b88-a7bc-29fd74530584"
      },
      "outputs": [
        {
          "data": {
            "text/plain": [
              "     fun: -1.3374806339222158\n",
              "    nfev: 23\n",
              "     nit: 19\n",
              " success: True\n",
              "       x: 4.023594924340666"
            ]
          },
          "execution_count": 5,
          "metadata": {},
          "output_type": "execute_result"
        }
      ],
      "source": [
        "minimize_scalar(lambda t: -CB(t), bracket=[0,50])"
      ]
    },
    {
      "cell_type": "code",
      "execution_count": null,
      "metadata": {
        "colab": {
          "base_uri": "https://localhost:8080/",
          "height": 34
        },
        "id": "ijeny_k_Fg2Z",
        "nbpages": {
          "level": 2,
          "link": "[6.2.4 Optimization with `scipy.minimize_scalar`](https://jckantor.github.io/ND-Pyomo-Cookbook/06.02-Maximizing-Concentration-of-an-Intermediate-in-a-Batch-Reactor.html#6.2.4-Optimization-with-`scipy.minimize_scalar`)",
          "section": "6.2.4 Optimization with `scipy.minimize_scalar`"
        },
        "outputId": "652ad20d-a98e-4223-d3a5-bd2d0ce24521"
      },
      "outputs": [
        {
          "name": "stdout",
          "output_type": "stream",
          "text": [
            "Concentration c_B has maximum 1.3374806339222158 moles/liter at time 4.023594924340666 minutes.\n"
          ]
        }
      ],
      "source": [
        "tmax = minimize_scalar(lambda t: -CB(t), bracket=[0,50]).x\n",
        "\n",
        "print('Concentration c_B has maximum', CB(tmax), 'moles/liter at time', tmax, 'minutes.')"
      ]
    },
    {
      "cell_type": "markdown",
      "metadata": {
        "id": "gvhPt9DxFg2c",
        "nbpages": {
          "level": 2,
          "link": "[6.2.5 Solution using Pyomo](https://jckantor.github.io/ND-Pyomo-Cookbook/06.02-Maximizing-Concentration-of-an-Intermediate-in-a-Batch-Reactor.html#6.2.5-Solution-using-Pyomo)",
          "section": "6.2.5 Solution using Pyomo"
        }
      },
      "source": [
        "## 6.2.5 Solution using Pyomo\n",
        "\n",
        "The variable to be found is the time $t_f$ corresponding to the maximum concentration of $B$. For this purpose we introduce a scaled time\n",
        "\n",
        "$$\\tau = \\frac{t}{t_f}$$\n",
        "\n",
        "so that $\\tau=1$ as the desired solution. The problem then reads\n",
        "\n",
        "\\begin{align}\n",
        "\\max_{t_f} C_B(\\tau=1)\n",
        "\\end{align}\n",
        "\n",
        "subject to\n",
        "\n",
        "\\begin{align}\n",
        "\\frac{dC_A}{d\\tau} & = - t_f k_A C_A \\\\\n",
        "\\frac{dC_B}{d\\tau} & = t_f(k_A C_A - k_B C_B)\n",
        "\\end{align}\n",
        "\n",
        "The solution to this problem is implemented as a solution to the following Pyomo model."
      ]
    },
    {
      "cell_type": "code",
      "execution_count": null,
      "metadata": {
        "colab": {
          "base_uri": "https://localhost:8080/",
          "height": 34
        },
        "id": "7S2xp-pHFg2d",
        "nbpages": {
          "level": 2,
          "link": "[6.2.5 Solution using Pyomo](https://jckantor.github.io/ND-Pyomo-Cookbook/06.02-Maximizing-Concentration-of-an-Intermediate-in-a-Batch-Reactor.html#6.2.5-Solution-using-Pyomo)",
          "section": "6.2.5 Solution using Pyomo"
        },
        "outputId": "1a9f8c2f-fdba-43dd-b457-d41afd4813b4"
      },
      "outputs": [
        {
          "name": "stdout",
          "output_type": "stream",
          "text": [
            "Concentration c_B has maximum 1.3374805810221078 moles/liter at time 4.023594178375688 minutes.\n"
          ]
        }
      ],
      "source": [
        "V   = 40    # liters\n",
        "kA  = 0.5   # 1/min\n",
        "kB  = 0.1   # l/min\n",
        "cAf = 2.0   # moles/liter\n",
        "\n",
        "m = ConcreteModel()\n",
        "\n",
        "m.tau = ContinuousSet(bounds=(0, 1))\n",
        "\n",
        "m.tf = Var(domain=NonNegativeReals)\n",
        "m.cA = Var(m.tau, domain=NonNegativeReals)\n",
        "m.cB = Var(m.tau, domain=NonNegativeReals)\n",
        "\n",
        "m.dcA = DerivativeVar(m.cA)\n",
        "m.dcB = DerivativeVar(m.cB)\n",
        "\n",
        "m.odeA = Constraint(m.tau, \n",
        "    rule=lambda m, tau: m.dcA[tau] == m.tf*(-kA*m.cA[tau]) if tau > 0 else Constraint.Skip)\n",
        "m.odeB = Constraint(m.tau,\n",
        "    rule=lambda m, tau: m.dcB[tau] == m.tf*(kA*m.cA[tau] - kB*m.cB[tau]) if tau > 0 else Constraint.Skip)\n",
        "\n",
        "m.ic = ConstraintList()\n",
        "m.ic.add(m.cA[0]  == cAf)\n",
        "m.ic.add(m.cB[0]  == 0)\n",
        "\n",
        "m.obj = Objective(expr=m.cB[1], sense=maximize)\n",
        "\n",
        "TransformationFactory('dae.collocation').apply_to(m)\n",
        "SolverFactory('ipopt').solve(m)\n",
        "print('Concentration c_B has maximum', m.cB[1](), 'moles/liter at time', m.tf(), 'minutes.')"
      ]
    },
    {
      "cell_type": "code",
      "execution_count": null,
      "metadata": {
        "id": "NPwJqR_IFg2h",
        "nbpages": {
          "level": 2,
          "link": "[6.2.5 Solution using Pyomo](https://jckantor.github.io/ND-Pyomo-Cookbook/06.02-Maximizing-Concentration-of-an-Intermediate-in-a-Batch-Reactor.html#6.2.5-Solution-using-Pyomo)",
          "section": "6.2.5 Solution using Pyomo"
        }
      },
      "outputs": [],
      "source": [
        ""
      ]
    },
    {
      "cell_type": "markdown",
      "metadata": {
        "id": "dZ3mPgSIH7eL",
        "nbpages": {
          "level": 2,
          "link": "[6.2.5 Solution using Pyomo](https://jckantor.github.io/ND-Pyomo-Cookbook/06.02-Maximizing-Concentration-of-an-Intermediate-in-a-Batch-Reactor.html#6.2.5-Solution-using-Pyomo)",
          "section": "6.2.5 Solution using Pyomo"
        }
      },
      "source": [
        "<!--NAVIGATION-->\n",
        "< [6.1 Unconstrained Scalar Optimization](https://jckantor.github.io/ND-Pyomo-Cookbook/06.01-Unconstrained-Scalar-Optimization.html) | [Contents](toc.html) | [Tag Index](tag_index.html) | [6.3 Path Planning for a Simple Car](https://jckantor.github.io/ND-Pyomo-Cookbook/06.03-Path-Planning-for-a-Simple-Car.html) ><p><a href=\"https://colab.research.google.com/github/jckantor/ND-Pyomo-Cookbook/blob/master/docs/06.02-Maximizing-Concentration-of-an-Intermediate-in-a-Batch-Reactor.ipynb\"> <img align=\"left\" src=\"https://colab.research.google.com/assets/colab-badge.svg\" alt=\"Open in Colab\" title=\"Open in Google Colaboratory\"></a><p><a href=\"https://jckantor.github.io/ND-Pyomo-Cookbook/06.02-Maximizing-Concentration-of-an-Intermediate-in-a-Batch-Reactor.ipynb\"> <img align=\"left\" src=\"https://img.shields.io/badge/Github-Download-blue.svg\" alt=\"Download\" title=\"Download Notebook\"></a>"
      ]
    }
  ],
  "metadata": {
    "colab": {
      "collapsed_sections": [],
      "name": "06.02-Maximizing-Concentration-of-an-Intermediate-in-a-Batch-Reactor.ipynb",
      "provenance": [],
      "toc_visible": true
    },
    "kernelspec": {
      "display_name": "Python 3",
      "language": "python",
      "name": "python3"
    },
    "language_info": {
      "codemirror_mode": {
        "name": "ipython",
        "version": 3
      },
      "file_extension": ".py",
      "mimetype": "text/x-python",
      "name": "python",
      "nbconvert_exporter": "python",
      "pygments_lexer": "ipython3",
      "version": "3.8.5"
    }
  },
  "nbformat": 4,
  "nbformat_minor": 0
}