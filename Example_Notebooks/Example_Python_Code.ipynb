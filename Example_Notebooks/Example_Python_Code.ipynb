{
 "cells": [
  {
   "cell_type": "code",
   "execution_count": 1,
   "metadata": {},
   "outputs": [],
   "source": [
    "# Some modules we might want to use\n",
    "# I won't use them all in this example though\n",
    "\n",
    "import matplotlib.pyplot as plt\n",
    "\n",
    "import numpy as np\n",
    "\n",
    "import pandas as pd\n",
    "\n",
    "from zse.collections import *\n",
    "from zse.utilities import *\n",
    "\n",
    "from matplotlib import cm\n",
    "\n",
    "from collections import Counter"
   ]
  },
  {
   "cell_type": "markdown",
   "metadata": {},
   "source": [
    "Here is an example function that will help get data out of the .txt files I have provided."
   ]
  },
  {
   "cell_type": "code",
   "execution_count": 2,
   "metadata": {},
   "outputs": [],
   "source": [
    "def get_fw_data(file,code):\n",
    "    \n",
    "    # file is the file we want to read from\n",
    "    # code is the IZA framework code you want data on\n",
    "    \n",
    "    file = open(file,'r')\n",
    "    data = file.readlines()\n",
    "    file.close()\n",
    "    \n",
    "    for i,line in enumerate(data):\n",
    "        fields = line.split()\n",
    "        if fields[0] == code:\n",
    "            start = i\n",
    "            break\n",
    "    \n",
    "    # go through fw chunk and get data\n",
    "    \n",
    "    t_sites = {}\n",
    "    o_sites = {}\n",
    "    for i,line in enumerate(data[start+1:]):\n",
    "        line = line.rstrip(' \\n')\n",
    "\n",
    "        # get the t site rings\n",
    "        \n",
    "        if 'T' in line and ':' in line:\n",
    "            fields = line.split(':')\n",
    "            t_sites[fields[0]]=fields[1]                \n",
    "        \n",
    "        # get the o site rings\n",
    "        \n",
    "        if 'O' in line and ':' in line:\n",
    "            fields = line.split(':')\n",
    "            o_sites[fields[0]]=fields[1]        \n",
    "        \n",
    "        fields = line.split()\n",
    "        if fields[0] == 'Framework':\n",
    "            end = i+start-1\n",
    "            break\n",
    "\n",
    "    return(t_sites,o_sites)    "
   ]
  },
  {
   "cell_type": "code",
   "execution_count": 10,
   "metadata": {},
   "outputs": [],
   "source": [
    "'''\n",
    "We can use the function to get the T-site rings \n",
    "and Oxygen rings for a given framework.\n",
    "I will get the data for TON framework.\n",
    "\n",
    "'''\n",
    "\n",
    "file = '../Data/crum_rings.txt'\n",
    "code = 'TON'\n",
    "tsites, osites = get_fw_data(file,code)"
   ]
  },
  {
   "cell_type": "code",
   "execution_count": 11,
   "metadata": {},
   "outputs": [
    {
     "name": "stdout",
     "output_type": "stream",
     "text": [
      "T1 5_5_6_6_6_6_6_6_6_6_10_10\n",
      "T2 5_5_5_5_6_6_6_10_10\n",
      "T3 5_5_5_5_6_6_10_10\n",
      "T4 5_5_5_5_6_6_6_6_6_6\n"
     ]
    }
   ],
   "source": [
    "# The tsites and osites obejcts are dictionaries containing\n",
    "# the desire information. \n",
    "# Here's an example of how to loop through the dictionaries\n",
    "\n",
    "for t in tsites:\n",
    "    print(t,tsites[t])"
   ]
  },
  {
   "cell_type": "code",
   "execution_count": 12,
   "metadata": {},
   "outputs": [
    {
     "name": "stdout",
     "output_type": "stream",
     "text": [
      "O1 6_6_6_6_6_10\n",
      "O2 5_5_6_6_6_6\n",
      "O3 5_5_6_6_10_10\n",
      "O4 5_5_10_10\n",
      "O5 5_5_6_6\n",
      "O6 5_5_6_6\n"
     ]
    }
   ],
   "source": [
    "for o in osites:\n",
    "    print(o,osites[o])"
   ]
  },
  {
   "cell_type": "markdown",
   "metadata": {},
   "source": [
    "Let's say you want the data on all IZA frameworks.\n",
    "\n",
    "ZSE has a function to get a list of those frameworks for you.\n",
    "\n",
    "~~~\n",
    "zse.collections.get_all_fws()\n",
    "~~~"
   ]
  },
  {
   "cell_type": "code",
   "execution_count": 15,
   "metadata": {},
   "outputs": [
    {
     "name": "stdout",
     "output_type": "stream",
     "text": [
      "['ABW', 'ACO', 'AEI', 'AEL', 'AEN', 'AET', 'AFG', 'AFI', 'AFN', 'AFO']\n"
     ]
    }
   ],
   "source": [
    "# I will print the first 10 frameworks here:\n",
    "\n",
    "fws = get_all_fws()\n",
    "print(fws[:10])"
   ]
  },
  {
   "cell_type": "code",
   "execution_count": null,
   "metadata": {},
   "outputs": [],
   "source": []
  }
 ],
 "metadata": {
  "kernelspec": {
   "display_name": "Python 3",
   "language": "python",
   "name": "python3"
  },
  "language_info": {
   "codemirror_mode": {
    "name": "ipython",
    "version": 3
   },
   "file_extension": ".py",
   "mimetype": "text/x-python",
   "name": "python",
   "nbconvert_exporter": "python",
   "pygments_lexer": "ipython3",
   "version": "3.7.6"
  }
 },
 "nbformat": 4,
 "nbformat_minor": 4
}
